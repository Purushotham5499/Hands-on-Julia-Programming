{
 "cells": [
  {
   "cell_type": "markdown",
   "metadata": {},
   "source": [
    "# Chapter-4 Functions and Methods\n",
    "\n",
    "This notebook contains the sample source code explained in the book *Hands-On Julia Programming, Sambit Kumar Dash, 2021, bpb Publications. All Rights Reserved*."
   ]
  },
  {
   "cell_type": "code",
   "execution_count": 103,
   "metadata": {},
   "outputs": [
    {
     "name": "stderr",
     "output_type": "stream",
     "text": [
      "\u001b[32m\u001b[1m  Activating\u001b[22m\u001b[39m project at `C:\\Users\\WoU_AI_ML\\Hands-on-Julia-Programming-main\\Chapter 04`\n"
     ]
    }
   ],
   "source": [
    "using Pkg\n",
    "pkg\"activate .\"\n",
    "pkg\"instantiate\""
   ]
  },
  {
   "cell_type": "markdown",
   "metadata": {},
   "source": [
    "## 4.1 Introduction\n",
    "\n",
    "In this chapter we take up the classic [8 queens problem](https://en.wikipedia.org/wiki/Eight_queens_puzzle) and try to break the up problem into small pieces of repeatable code as functions. Also, showcase the power of recursive programming in Julia. "
   ]
  },
  {
   "cell_type": "markdown",
   "metadata": {},
   "source": [
    "### 8-Queens Problem"
   ]
  },
  {
   "cell_type": "markdown",
   "metadata": {},
   "source": [
    "#### Two Mutually Safe Queens\n",
    "\n",
    "Condition that two queens on the board attack each other. "
   ]
  },
  {
   "cell_type": "code",
   "execution_count": 104,
   "metadata": {},
   "outputs": [
    {
     "data": {
      "text/plain": [
       "attacks (generic function with 1 method)"
      ]
     },
     "execution_count": 104,
     "metadata": {},
     "output_type": "execute_result"
    }
   ],
   "source": [
    "function attacks(x1, y1, x2, y2)\n",
    "    if x1 == x2\n",
    "        return true\n",
    "    elseif y1 == y2\n",
    "        return true\n",
    "    elseif x1 - y1 == x2 - y2\n",
    "        return true\n",
    "    elseif x1 + y1 == x2 + y2\n",
    "        return true\n",
    "    else\n",
    "        return false\n",
    "    end\n",
    "end"
   ]
  },
  {
   "cell_type": "code",
   "execution_count": 105,
   "metadata": {},
   "outputs": [
    {
     "data": {
      "text/plain": [
       "true"
      ]
     },
     "execution_count": 105,
     "metadata": {},
     "output_type": "execute_result"
    }
   ],
   "source": [
    "attacks(1, 2, 4, 5)"
   ]
  },
  {
   "cell_type": "code",
   "execution_count": 106,
   "metadata": {},
   "outputs": [
    {
     "data": {
      "text/plain": [
       "false"
      ]
     },
     "execution_count": 106,
     "metadata": {},
     "output_type": "execute_result"
    }
   ],
   "source": [
    "attacks(1, 2, 4, 6)"
   ]
  },
  {
   "cell_type": "markdown",
   "metadata": {},
   "source": [
    "#### Operators"
   ]
  },
  {
   "cell_type": "code",
   "execution_count": 107,
   "metadata": {},
   "outputs": [
    {
     "data": {
      "text/plain": [
       "attacks (generic function with 1 method)"
      ]
     },
     "execution_count": 107,
     "metadata": {},
     "output_type": "execute_result"
    }
   ],
   "source": [
    "function attacks(x1, y1, x2, y2)\n",
    "    return x1 == x2 || y1 == y2 || x1 - y1 == x2 - y2 || x1 + y1 == x2 + y2\n",
    "end"
   ]
  },
  {
   "cell_type": "markdown",
   "metadata": {},
   "source": [
    "## 4.2 Short Form\n",
    "\n",
    "Functions can have syntaxes that are simpler and more like mathematical expressions. "
   ]
  },
  {
   "cell_type": "code",
   "execution_count": 108,
   "metadata": {},
   "outputs": [
    {
     "data": {
      "text/plain": [
       "attacks (generic function with 1 method)"
      ]
     },
     "execution_count": 108,
     "metadata": {},
     "output_type": "execute_result"
    }
   ],
   "source": [
    "function attacks(x1, y1, x2, y2)\n",
    "    x1 == x2 || y1 == y2 || x1 - y1 == x2 - y2 || x1 + y1 == x2 + y2\n",
    "end\n"
   ]
  },
  {
   "cell_type": "code",
   "execution_count": 109,
   "metadata": {},
   "outputs": [
    {
     "data": {
      "text/plain": [
       "attacks (generic function with 1 method)"
      ]
     },
     "execution_count": 109,
     "metadata": {},
     "output_type": "execute_result"
    }
   ],
   "source": [
    "attacks(x1, y1, x2, y2) = (x1 == x2 || y1 == y2 || x1 - y1 == x2 - y2 || x1 + y1 == x2 + y2)"
   ]
  },
  {
   "cell_type": "code",
   "execution_count": 110,
   "metadata": {},
   "outputs": [
    {
     "data": {
      "text/plain": [
       "attacks (generic function with 1 method)"
      ]
     },
     "execution_count": 110,
     "metadata": {},
     "output_type": "execute_result"
    }
   ],
   "source": [
    "attacks(x1, y1, x2, y2) = begin       # This is discouraged due to readability \n",
    "    if x1 == x2\n",
    "        return true\n",
    "    elseif y1 == y2\n",
    "        return true\n",
    "    elseif x1 - y1 == x2 - y2\n",
    "        return true\n",
    "    elseif x1 + y1 == x2 + y2\n",
    "        return true\n",
    "    else\n",
    "        return false\n",
    "    end\n",
    "end"
   ]
  },
  {
   "cell_type": "markdown",
   "metadata": {},
   "source": [
    "### Anonymous Functions\n",
    "\n",
    "In a functional language, when they are being used for localized tasks they need not have to have names and pollute all over the namespace. Anonymous functions come in very handy in such conditions. They are also called lambdas. "
   ]
  },
  {
   "cell_type": "code",
   "execution_count": 111,
   "metadata": {},
   "outputs": [
    {
     "data": {
      "text/plain": [
       "#3 (generic function with 1 method)"
      ]
     },
     "execution_count": 111,
     "metadata": {},
     "output_type": "execute_result"
    }
   ],
   "source": [
    "attacks_var = (x1, y1, x2, y2)->(x1 == x2 || y1 == y2 || x1 - y1 == x2 - y2 || x1 + y1 == x2 + y2)"
   ]
  },
  {
   "cell_type": "code",
   "execution_count": 112,
   "metadata": {},
   "outputs": [
    {
     "data": {
      "text/plain": [
       "true"
      ]
     },
     "execution_count": 112,
     "metadata": {},
     "output_type": "execute_result"
    }
   ],
   "source": [
    "attacks_var(1, 2, 4, 5)"
   ]
  },
  {
   "cell_type": "markdown",
   "metadata": {},
   "source": [
    "## 4.3 Input Arguments\n",
    "\n",
    "Julia function arguments are used to dispatch control to the relevant method. "
   ]
  },
  {
   "cell_type": "markdown",
   "metadata": {},
   "source": [
    "### Fixed Arguments"
   ]
  },
  {
   "cell_type": "code",
   "execution_count": 113,
   "metadata": {},
   "outputs": [
    {
     "ename": "LoadError",
     "evalue": "MethodError: no method matching attacks(::Int64, ::Int64, ::Int64, ::Int64, ::Int64)\n\u001b[0mClosest candidates are:\n\u001b[0m  attacks(::Any, ::Any, ::Any, ::Any) at In[110]:1",
     "output_type": "error",
     "traceback": [
      "MethodError: no method matching attacks(::Int64, ::Int64, ::Int64, ::Int64, ::Int64)\n\u001b[0mClosest candidates are:\n\u001b[0m  attacks(::Any, ::Any, ::Any, ::Any) at In[110]:1",
      "",
      "Stacktrace:",
      " [1] top-level scope",
      "   @ In[113]:1",
      " [2] eval",
      "   @ .\\boot.jl:368 [inlined]",
      " [3] include_string(mapexpr::typeof(REPL.softscope), mod::Module, code::String, filename::String)",
      "   @ Base .\\loading.jl:1428"
     ]
    }
   ],
   "source": [
    "attacks(1, 2, 3, 4, 5)"
   ]
  },
  {
   "cell_type": "code",
   "execution_count": 114,
   "metadata": {},
   "outputs": [
    {
     "ename": "LoadError",
     "evalue": "MethodError: no method matching attacks(::Int64, ::Int64, ::Int64)\n\u001b[0mClosest candidates are:\n\u001b[0m  attacks(::Any, ::Any, ::Any, \u001b[91m::Any\u001b[39m) at In[110]:1",
     "output_type": "error",
     "traceback": [
      "MethodError: no method matching attacks(::Int64, ::Int64, ::Int64)\n\u001b[0mClosest candidates are:\n\u001b[0m  attacks(::Any, ::Any, ::Any, \u001b[91m::Any\u001b[39m) at In[110]:1",
      "",
      "Stacktrace:",
      " [1] top-level scope",
      "   @ In[114]:1",
      " [2] eval",
      "   @ .\\boot.jl:368 [inlined]",
      " [3] include_string(mapexpr::typeof(REPL.softscope), mod::Module, code::String, filename::String)",
      "   @ Base .\\loading.jl:1428"
     ]
    }
   ],
   "source": [
    "attacks(1, 2, 3)"
   ]
  },
  {
   "cell_type": "code",
   "execution_count": 115,
   "metadata": {},
   "outputs": [
    {
     "data": {
      "text/plain": [
       "hello_world (generic function with 1 method)"
      ]
     },
     "execution_count": 115,
     "metadata": {},
     "output_type": "execute_result"
    }
   ],
   "source": [
    "function hello_world()\n",
    "    println(\"Hello World!!!\")\n",
    "end"
   ]
  },
  {
   "cell_type": "code",
   "execution_count": 116,
   "metadata": {},
   "outputs": [
    {
     "name": "stdout",
     "output_type": "stream",
     "text": [
      "Hello World!!!\n"
     ]
    }
   ],
   "source": [
    "hello_world()"
   ]
  },
  {
   "cell_type": "markdown",
   "metadata": {},
   "source": [
    "### Variable Arguments\n",
    "\n",
    "Functions can be variable sized arguments. "
   ]
  },
  {
   "cell_type": "code",
   "execution_count": 117,
   "metadata": {},
   "outputs": [
    {
     "data": {
      "text/plain": [
       "mysum (generic function with 2 methods)"
      ]
     },
     "execution_count": 117,
     "metadata": {},
     "output_type": "execute_result"
    }
   ],
   "source": [
    "mysum(x, y...) = x + mysum(y...)"
   ]
  },
  {
   "cell_type": "code",
   "execution_count": 118,
   "metadata": {},
   "outputs": [
    {
     "data": {
      "text/plain": [
       "mysum (generic function with 2 methods)"
      ]
     },
     "execution_count": 118,
     "metadata": {},
     "output_type": "execute_result"
    }
   ],
   "source": [
    "mysum(x) = x"
   ]
  },
  {
   "cell_type": "code",
   "execution_count": 119,
   "metadata": {},
   "outputs": [
    {
     "data": {
      "text/plain": [
       "3"
      ]
     },
     "execution_count": 119,
     "metadata": {},
     "output_type": "execute_result"
    }
   ],
   "source": [
    "mysum(1, 2)"
   ]
  },
  {
   "cell_type": "code",
   "execution_count": 120,
   "metadata": {},
   "outputs": [
    {
     "data": {
      "text/plain": [
       "6"
      ]
     },
     "execution_count": 120,
     "metadata": {},
     "output_type": "execute_result"
    }
   ],
   "source": [
    "mysum(1, 2, 3)"
   ]
  },
  {
   "cell_type": "code",
   "execution_count": 121,
   "metadata": {},
   "outputs": [
    {
     "data": {
      "text/plain": [
       "28"
      ]
     },
     "execution_count": 121,
     "metadata": {},
     "output_type": "execute_result"
    }
   ],
   "source": [
    "mysum(1, 2, 3, 4, 5, 6, 7)"
   ]
  },
  {
   "cell_type": "code",
   "execution_count": 122,
   "metadata": {},
   "outputs": [
    {
     "data": {
      "text/plain": [
       "mymax (generic function with 3 methods)"
      ]
     },
     "execution_count": 122,
     "metadata": {},
     "output_type": "execute_result"
    }
   ],
   "source": [
    "mymax(x, y...) = mymax(x, mymax(y...))"
   ]
  },
  {
   "cell_type": "code",
   "execution_count": 123,
   "metadata": {},
   "outputs": [
    {
     "data": {
      "text/plain": [
       "mymax (generic function with 3 methods)"
      ]
     },
     "execution_count": 123,
     "metadata": {},
     "output_type": "execute_result"
    }
   ],
   "source": [
    "mymax(x, y) = x > y ? x : y"
   ]
  },
  {
   "cell_type": "code",
   "execution_count": 124,
   "metadata": {},
   "outputs": [
    {
     "data": {
      "text/plain": [
       "3"
      ]
     },
     "execution_count": 124,
     "metadata": {},
     "output_type": "execute_result"
    }
   ],
   "source": [
    "mymax(1, 2, 3)"
   ]
  },
  {
   "cell_type": "code",
   "execution_count": 125,
   "metadata": {},
   "outputs": [
    {
     "data": {
      "text/plain": [
       "3"
      ]
     },
     "execution_count": 125,
     "metadata": {},
     "output_type": "execute_result"
    }
   ],
   "source": [
    "mymax(3, 2, 1)"
   ]
  },
  {
   "cell_type": "code",
   "execution_count": 126,
   "metadata": {},
   "outputs": [
    {
     "data": {
      "text/plain": [
       "10"
      ]
     },
     "execution_count": 126,
     "metadata": {},
     "output_type": "execute_result"
    }
   ],
   "source": [
    "mymax(4, 10, 3, 2, 1)"
   ]
  },
  {
   "cell_type": "code",
   "execution_count": 127,
   "metadata": {},
   "outputs": [
    {
     "data": {
      "text/plain": [
       "1"
      ]
     },
     "execution_count": 127,
     "metadata": {},
     "output_type": "execute_result"
    }
   ],
   "source": [
    "mymax(1)"
   ]
  },
  {
   "cell_type": "code",
   "execution_count": 128,
   "metadata": {},
   "outputs": [
    {
     "data": {
      "text/plain": [
       "mymax (generic function with 3 methods)"
      ]
     },
     "execution_count": 128,
     "metadata": {},
     "output_type": "execute_result"
    }
   ],
   "source": [
    "mymax(x) = x"
   ]
  },
  {
   "cell_type": "code",
   "execution_count": 129,
   "metadata": {},
   "outputs": [
    {
     "data": {
      "text/plain": [
       "1"
      ]
     },
     "execution_count": 129,
     "metadata": {},
     "output_type": "execute_result"
    }
   ],
   "source": [
    "mymax(1)"
   ]
  },
  {
   "cell_type": "code",
   "execution_count": 130,
   "metadata": {},
   "outputs": [
    {
     "data": {
      "text/html": [
       "# 3 methods for generic function <b>mymax</b>:<ul><li> mymax(x) in Main at In[128]:1</li> <li> mymax(x, y) in Main at In[123]:1</li> <li> mymax(x, y...) in Main at In[122]:1</li> </ul>"
      ],
      "text/plain": [
       "# 3 methods for generic function \"mymax\":\n",
       "[1] mymax(x) in Main at In[128]:1\n",
       "[2] mymax(x, y) in Main at In[123]:1\n",
       "[3] mymax(x, y...) in Main at In[122]:1"
      ]
     },
     "execution_count": 130,
     "metadata": {},
     "output_type": "execute_result"
    }
   ],
   "source": [
    "methods(mymax)"
   ]
  },
  {
   "cell_type": "markdown",
   "metadata": {},
   "source": [
    "### Default Values\n",
    "\n",
    "Default values introduce addtional methods. The specific methods for the default values are automatically generated by the compiler. "
   ]
  },
  {
   "cell_type": "code",
   "execution_count": 131,
   "metadata": {},
   "outputs": [
    {
     "data": {
      "text/plain": [
       "mymax (generic function with 3 methods)"
      ]
     },
     "execution_count": 131,
     "metadata": {},
     "output_type": "execute_result"
    }
   ],
   "source": [
    "mymax(x, y...) = mymax(x, mymax(y...))\n",
    "mymax(x, y=x) = x > y ? x : y"
   ]
  },
  {
   "cell_type": "code",
   "execution_count": 132,
   "metadata": {},
   "outputs": [
    {
     "data": {
      "text/html": [
       "# 3 methods for generic function <b>mymax</b>:<ul><li> mymax(x) in Main at In[131]:2</li> <li> mymax(x, y) in Main at In[131]:2</li> <li> mymax(x, y...) in Main at In[131]:1</li> </ul>"
      ],
      "text/plain": [
       "# 3 methods for generic function \"mymax\":\n",
       "[1] mymax(x) in Main at In[131]:2\n",
       "[2] mymax(x, y) in Main at In[131]:2\n",
       "[3] mymax(x, y...) in Main at In[131]:1"
      ]
     },
     "execution_count": 132,
     "metadata": {},
     "output_type": "execute_result"
    }
   ],
   "source": [
    "methods(mymax)"
   ]
  },
  {
   "cell_type": "markdown",
   "metadata": {},
   "source": [
    "### Slurping and Splatting\n",
    "\n",
    "The ... operator can be very useful in function arguments. They can be expanded (splatting) in a function call or considered as tuple (slurping) in the function definition. "
   ]
  },
  {
   "cell_type": "code",
   "execution_count": 133,
   "metadata": {},
   "outputs": [
    {
     "data": {
      "text/plain": [
       "test (generic function with 1 method)"
      ]
     },
     "execution_count": 133,
     "metadata": {},
     "output_type": "execute_result"
    }
   ],
   "source": [
    "function test(args...)\n",
    "    println(typeof(args))\n",
    "end"
   ]
  },
  {
   "cell_type": "code",
   "execution_count": 134,
   "metadata": {},
   "outputs": [
    {
     "name": "stdout",
     "output_type": "stream",
     "text": [
      "Tuple{Int64, Int64, Int64, Float64}\n"
     ]
    }
   ],
   "source": [
    "test(1, 2, 3, 4.0)"
   ]
  },
  {
   "cell_type": "code",
   "execution_count": 135,
   "metadata": {},
   "outputs": [
    {
     "data": {
      "text/plain": [
       "true"
      ]
     },
     "execution_count": 135,
     "metadata": {},
     "output_type": "execute_result"
    }
   ],
   "source": [
    "q1 = (1, 2);\n",
    "q2 = (3, 4);\n",
    "attacks(q1..., q2...)"
   ]
  },
  {
   "cell_type": "markdown",
   "metadata": {},
   "source": [
    "## 4.4 Return Value\n",
    "\n",
    "All Julia functions return the result of the computation as value. "
   ]
  },
  {
   "cell_type": "code",
   "execution_count": 136,
   "metadata": {},
   "outputs": [
    {
     "name": "stdout",
     "output_type": "stream",
     "text": [
      "Hello World!!!\n"
     ]
    }
   ],
   "source": [
    "a = hello_world()"
   ]
  },
  {
   "cell_type": "code",
   "execution_count": 137,
   "metadata": {},
   "outputs": [
    {
     "data": {
      "text/plain": [
       "Nothing"
      ]
     },
     "execution_count": 137,
     "metadata": {},
     "output_type": "execute_result"
    }
   ],
   "source": [
    "typeof(a)"
   ]
  },
  {
   "cell_type": "markdown",
   "metadata": {},
   "source": [
    "### Type Safety "
   ]
  },
  {
   "cell_type": "code",
   "execution_count": 138,
   "metadata": {},
   "outputs": [
    {
     "data": {
      "text/plain": [
       "attacks (generic function with 1 method)"
      ]
     },
     "execution_count": 138,
     "metadata": {},
     "output_type": "execute_result"
    }
   ],
   "source": [
    "function attacks(x1, y1, x2, y2)\n",
    "    if x1 == x2\n",
    "        return true\n",
    "    elseif y1 == y2\n",
    "        return true\n",
    "    elseif x1 - y1 == x2 - y2\n",
    "        return true\n",
    "    elseif x1 + y1 == x2 + y2\n",
    "        return true\n",
    "    end\n",
    "end"
   ]
  },
  {
   "cell_type": "code",
   "execution_count": 139,
   "metadata": {},
   "outputs": [
    {
     "data": {
      "text/plain": [
       "true"
      ]
     },
     "execution_count": 139,
     "metadata": {},
     "output_type": "execute_result"
    }
   ],
   "source": [
    "attacks(1, 2, 3, 4)"
   ]
  },
  {
   "cell_type": "code",
   "execution_count": 140,
   "metadata": {},
   "outputs": [],
   "source": [
    "attacks(1, 2, 3, 5)"
   ]
  },
  {
   "cell_type": "code",
   "execution_count": 141,
   "metadata": {},
   "outputs": [
    {
     "data": {
      "text/plain": [
       "true"
      ]
     },
     "execution_count": 141,
     "metadata": {},
     "output_type": "execute_result"
    }
   ],
   "source": [
    "a = attacks(1, 2, 3, 4)"
   ]
  },
  {
   "cell_type": "code",
   "execution_count": 142,
   "metadata": {},
   "outputs": [],
   "source": [
    "b = attacks(1, 2, 3, 5)"
   ]
  },
  {
   "cell_type": "code",
   "execution_count": 143,
   "metadata": {},
   "outputs": [
    {
     "data": {
      "text/plain": [
       "(Bool, Nothing)"
      ]
     },
     "execution_count": 143,
     "metadata": {},
     "output_type": "execute_result"
    }
   ],
   "source": [
    "typeof(a), typeof(b)"
   ]
  },
  {
   "cell_type": "markdown",
   "metadata": {},
   "source": [
    "### Multiple Values\n",
    "\n",
    "Tuples can be used to return multiple values from a function. "
   ]
  },
  {
   "cell_type": "code",
   "execution_count": 144,
   "metadata": {},
   "outputs": [
    {
     "data": {
      "text/plain": [
       "attacks_with_reason (generic function with 1 method)"
      ]
     },
     "execution_count": 144,
     "metadata": {},
     "output_type": "execute_result"
    }
   ],
   "source": [
    "function attacks_with_reason(x1, y1, x2, y2)\n",
    "    if x1 == x2\n",
    "        return true, :x\n",
    "    elseif y1 == y2\n",
    "        return true, :y\n",
    "    elseif x1 - y1 == x2 - y2\n",
    "        return true, :diag\n",
    "    elseif x1 + y1 == x2 + y2\n",
    "        return true, :xdiag\n",
    "    else\n",
    "        return false, :na\n",
    "    end\n",
    "end"
   ]
  },
  {
   "cell_type": "code",
   "execution_count": 145,
   "metadata": {},
   "outputs": [
    {
     "data": {
      "text/plain": [
       "(true, :diag)"
      ]
     },
     "execution_count": 145,
     "metadata": {},
     "output_type": "execute_result"
    }
   ],
   "source": [
    "attacks_with_reason(1, 2, 3, 4)"
   ]
  },
  {
   "cell_type": "code",
   "execution_count": 146,
   "metadata": {},
   "outputs": [
    {
     "data": {
      "text/plain": [
       "(false, :na)"
      ]
     },
     "execution_count": 146,
     "metadata": {},
     "output_type": "execute_result"
    }
   ],
   "source": [
    "attacks_with_reason(1, 2, 3, 1)"
   ]
  },
  {
   "cell_type": "code",
   "execution_count": 147,
   "metadata": {},
   "outputs": [
    {
     "data": {
      "text/plain": [
       "(true, :y)"
      ]
     },
     "execution_count": 147,
     "metadata": {},
     "output_type": "execute_result"
    }
   ],
   "source": [
    "attacks_with_reason(1, 2, 3, 2)"
   ]
  },
  {
   "cell_type": "code",
   "execution_count": 148,
   "metadata": {},
   "outputs": [
    {
     "data": {
      "text/plain": [
       "(true, :xdiag)"
      ]
     },
     "execution_count": 148,
     "metadata": {},
     "output_type": "execute_result"
    }
   ],
   "source": [
    "attacks_with_reason(1, 2, 2, 1)"
   ]
  },
  {
   "cell_type": "markdown",
   "metadata": {},
   "source": [
    "## 4.5 Recursion\n",
    "\n",
    "Functional programming emphacises use of recursion to achieve complex tasks. We will solve the eight queens problem using recursion. "
   ]
  },
  {
   "cell_type": "code",
   "execution_count": 149,
   "metadata": {},
   "outputs": [
    {
     "data": {
      "text/plain": [
       "queens (generic function with 1 method)"
      ]
     },
     "execution_count": 149,
     "metadata": {},
     "output_type": "execute_result"
    }
   ],
   "source": [
    "attacks(x1, y1, x2, y2) = (x1 == x2 || y1 == y2 || x1 - y1 == x2 - y2 || x1 + y1 == x2 + y2)\n",
    "function queens(N, xs...)\n",
    "    lxs = length(xs)\n",
    "    c = N - lxs                          ## Step 6\n",
    "    if c == 0                            ## Step 3\n",
    "        println(\"Final Positions: \", reverse(xs))\n",
    "        return 0\n",
    "    end\n",
    "    for i=1:N                            ## Step 1 & 2\n",
    "        res = false                      ## Step 2(a)\n",
    "        for j=1:lxs\n",
    "            res = res || attacks(xs[j], N-j+1, i, c)\n",
    "        end\n",
    "        res && continue\n",
    "        v = queens(N, xs..., i)          ## Step 2(c)\n",
    "        v < 0 || return v\n",
    "    end\n",
    "    return -1                            ## Step 4\n",
    "end"
   ]
  },
  {
   "cell_type": "code",
   "execution_count": 150,
   "metadata": {},
   "outputs": [
    {
     "name": "stdout",
     "output_type": "stream",
     "text": [
      "Final Positions: (4, 2, 7, 3, 6, 8, 5, 1)\n"
     ]
    },
    {
     "data": {
      "text/plain": [
       "0"
      ]
     },
     "execution_count": 150,
     "metadata": {},
     "output_type": "execute_result"
    }
   ],
   "source": [
    "queens(8)"
   ]
  },
  {
   "cell_type": "code",
   "execution_count": 151,
   "metadata": {},
   "outputs": [
    {
     "data": {
      "text/plain": [
       "queens (generic function with 1 method)"
      ]
     },
     "execution_count": 151,
     "metadata": {},
     "output_type": "execute_result"
    }
   ],
   "source": [
    "function queens(N, xs...)\n",
    "    println(xs)\n",
    "    lxs = length(xs)\n",
    "    c = N - lxs                          ## Step 6\n",
    "    if c == 0                            ## Step 3\n",
    "        println(\"Final Positions: \", reverse(xs))\n",
    "        return 0\n",
    "    end\n",
    "    for i=1:N                            ## Step 1 & 2\n",
    "        res = false                      ## Step 2(a)\n",
    "        for j=1:lxs\n",
    "            res = res || attacks(xs[j], N-j+1, i, c)\n",
    "        end\n",
    "        res && continue\n",
    "        v = queens(N, xs..., i)          ## Step 2(c)\n",
    "        v < 0 || return v\n",
    "    end\n",
    "    return -1                            ## Step 4\n",
    "end"
   ]
  },
  {
   "cell_type": "markdown",
   "metadata": {},
   "source": [
    "Backtracking view of the recursive eight queens puzzle."
   ]
  },
  {
   "cell_type": "code",
   "execution_count": 152,
   "metadata": {},
   "outputs": [
    {
     "name": "stdout",
     "output_type": "stream",
     "text": [
      "()\n",
      "(1,)\n",
      "(1, 3)\n",
      "(1, 3, 5)\n",
      "(1, 3, 5, 2)\n",
      "(1, 3, 5, 2, 4)\n",
      "(1, 3, 5, 2, 8)\n",
      "(1, 3, 5, 7)\n",
      "(1, 3, 5, 7, 2)\n",
      "(1, 3, 5, 7, 2, 4)\n",
      "(1, 3, 5, 7, 2, 4, 6)\n",
      "(1, 3, 5, 7, 4)\n",
      "(1, 3, 5, 8)\n",
      "(1, 3, 5, 8, 2)\n",
      "(1, 3, 5, 8, 2, 4)\n",
      "(1, 3, 5, 8, 2, 4, 6)\n",
      "(1, 3, 5, 8, 4)\n",
      "(1, 3, 6)\n",
      "(1, 3, 6, 2)\n",
      "(1, 3, 6, 2, 7)\n",
      "(1, 3, 6, 2, 7, 5)\n",
      "(1, 3, 6, 8)\n",
      "(1, 3, 6, 8, 2)\n",
      "(1, 3, 6, 8, 2, 4)\n",
      "(1, 3, 6, 8, 2, 5)\n",
      "(1, 3, 7)\n",
      "(1, 3, 7, 2)\n",
      "(1, 3, 7, 2, 4)\n",
      "(1, 3, 7, 2, 4, 8)\n",
      "(1, 3, 7, 2, 8)\n",
      "(1, 3, 7, 2, 8, 5)\n",
      "(1, 3, 8)\n",
      "(1, 3, 8, 2)\n",
      "(1, 3, 8, 2, 4)\n",
      "(1, 3, 8, 2, 7)\n",
      "(1, 3, 8, 6)\n",
      "(1, 3, 8, 6, 2)\n",
      "(1, 3, 8, 6, 4)\n",
      "(1, 3, 8, 6, 4, 2)\n",
      "(1, 3, 8, 6, 4, 2, 5)\n",
      "(1, 4)\n",
      "(1, 4, 2)\n",
      "(1, 4, 2, 5)\n",
      "(1, 4, 2, 5, 3)\n",
      "(1, 4, 2, 5, 8)\n",
      "(1, 4, 2, 7)\n",
      "(1, 4, 2, 7, 3)\n",
      "(1, 4, 2, 8)\n",
      "(1, 4, 2, 8, 3)\n",
      "(1, 4, 2, 8, 3, 7)\n",
      "(1, 4, 2, 8, 6)\n",
      "(1, 4, 2, 8, 6, 3)\n",
      "(1, 4, 6)\n",
      "(1, 4, 6, 3)\n",
      "(1, 4, 6, 8)\n",
      "(1, 4, 6, 8, 2)\n",
      "(1, 4, 6, 8, 2, 5)\n",
      "(1, 4, 6, 8, 2, 5, 3)\n",
      "(1, 4, 6, 8, 2, 7)\n",
      "(1, 4, 6, 8, 2, 7, 3)\n",
      "(1, 4, 6, 8, 3)\n",
      "(1, 4, 6, 8, 3, 5)\n",
      "(1, 4, 6, 8, 3, 7)\n",
      "(1, 4, 7)\n",
      "(1, 4, 7, 3)\n",
      "(1, 4, 7, 3, 6)\n",
      "(1, 4, 7, 3, 6, 2)\n",
      "(1, 4, 7, 3, 6, 2, 5)\n",
      "(1, 4, 7, 3, 8)\n",
      "(1, 4, 7, 3, 8, 2)\n",
      "(1, 4, 7, 3, 8, 2, 5)\n",
      "(1, 4, 7, 5)\n",
      "(1, 4, 7, 5, 2)\n",
      "(1, 4, 7, 5, 3)\n",
      "(1, 4, 7, 5, 8)\n",
      "(1, 4, 7, 5, 8, 2)\n",
      "(1, 4, 8)\n",
      "(1, 4, 8, 3)\n",
      "(1, 4, 8, 5)\n",
      "(1, 4, 8, 5, 2)\n",
      "(1, 4, 8, 5, 3)\n",
      "(1, 5)\n",
      "(1, 5, 2)\n",
      "(1, 5, 2, 6)\n",
      "(1, 5, 2, 6, 3)\n",
      "(1, 5, 2, 6, 3, 7)\n",
      "(1, 5, 2, 6, 3, 7, 4)\n",
      "(1, 5, 2, 8)\n",
      "(1, 5, 2, 8, 3)\n",
      "(1, 5, 2, 8, 3, 7)\n",
      "(1, 5, 2, 8, 3, 7, 4)\n",
      "(1, 5, 2, 8, 6)\n",
      "(1, 5, 2, 8, 6, 3)\n",
      "(1, 5, 2, 8, 6, 4)\n",
      "(1, 5, 7)\n",
      "(1, 5, 7, 2)\n",
      "(1, 5, 7, 2, 4)\n",
      "(1, 5, 7, 2, 4, 8)\n",
      "(1, 5, 7, 2, 6)\n",
      "(1, 5, 7, 2, 6, 3)\n",
      "(1, 5, 7, 2, 6, 8)\n",
      "(1, 5, 8)\n",
      "(1, 5, 8, 2)\n",
      "(1, 5, 8, 2, 4)\n",
      "(1, 5, 8, 2, 4, 7)\n",
      "(1, 5, 8, 2, 4, 7, 3)\n",
      "(1, 5, 8, 2, 7)\n",
      "(1, 5, 8, 2, 7, 3)\n",
      "(1, 5, 8, 2, 7, 3, 6)\n",
      "(1, 5, 8, 6)\n",
      "(1, 5, 8, 6, 3)\n",
      "(1, 5, 8, 6, 3, 7)\n",
      "(1, 5, 8, 6, 3, 7, 2)\n",
      "(1, 5, 8, 6, 3, 7, 2, 4)\n",
      "Final Positions: (4, 2, 7, 3, 6, 8, 5, 1)\n"
     ]
    },
    {
     "data": {
      "text/plain": [
       "0"
      ]
     },
     "execution_count": 152,
     "metadata": {},
     "output_type": "execute_result"
    }
   ],
   "source": [
    "queens(8)"
   ]
  },
  {
   "cell_type": "markdown",
   "metadata": {},
   "source": [
    "### Tail Call \n",
    "\n",
    "Missing tail call optimization in Julia is a concern but can be offset by first class iterative schemes that reduce emphasis from the recursive tasks. "
   ]
  },
  {
   "cell_type": "code",
   "execution_count": 153,
   "metadata": {},
   "outputs": [
    {
     "data": {
      "text/plain": [
       "mycumsum (generic function with 2 methods)"
      ]
     },
     "execution_count": 153,
     "metadata": {},
     "output_type": "execute_result"
    }
   ],
   "source": [
    "function mycumsum(n) \n",
    "     if n <= 0 \n",
    "         return 0 \n",
    "     else \n",
    "         return n + mycumsum(n-1)\n",
    "     end\n",
    "end"
   ]
  },
  {
   "cell_type": "code",
   "execution_count": 154,
   "metadata": {},
   "outputs": [
    {
     "data": {
      "text/plain": [
       "55"
      ]
     },
     "execution_count": 154,
     "metadata": {},
     "output_type": "execute_result"
    }
   ],
   "source": [
    "mycumsum(10)"
   ]
  },
  {
   "cell_type": "code",
   "execution_count": 155,
   "metadata": {},
   "outputs": [
    {
     "data": {
      "text/plain": [
       "mycumsum (generic function with 2 methods)"
      ]
     },
     "execution_count": 155,
     "metadata": {},
     "output_type": "execute_result"
    }
   ],
   "source": [
    "function mycumsum(n, acc=0)\n",
    "    if n <= 0\n",
    "        return acc\n",
    "    else\n",
    "        return mycumsum(n-1, n+acc)\n",
    "    end\n",
    "end"
   ]
  },
  {
   "cell_type": "code",
   "execution_count": 156,
   "metadata": {},
   "outputs": [
    {
     "data": {
      "text/plain": [
       "55"
      ]
     },
     "execution_count": 156,
     "metadata": {},
     "output_type": "execute_result"
    }
   ],
   "source": [
    "mycumsum(10)"
   ]
  },
  {
   "cell_type": "markdown",
   "metadata": {},
   "source": [
    "## 4.6  Polymorphic Methods\n",
    "\n",
    "Functions can be dispatched to different methods based on argument type and show polymorphic behavior advocated by object oriented programming models."
   ]
  },
  {
   "cell_type": "markdown",
   "metadata": {},
   "source": [
    "### Data Types"
   ]
  },
  {
   "cell_type": "code",
   "execution_count": 157,
   "metadata": {},
   "outputs": [
    {
     "data": {
      "text/plain": [
       "area (generic function with 3 methods)"
      ]
     },
     "execution_count": 157,
     "metadata": {},
     "output_type": "execute_result"
    }
   ],
   "source": [
    "abstract type Shape end\n",
    "struct Rectangle <: Shape\n",
    "    w::Float32\n",
    "    h::Float32\n",
    "end\n",
    "\n",
    "struct Triangle <: Shape \n",
    "    a::Float32\n",
    "    b::Float32\n",
    "    c::Float32\n",
    "end\n",
    "area(r::Rectangle)=r.w*r.h\n",
    "\n",
    "function area(t::Triangle)\n",
    "    a, b, c = t.a, t.b, t.c\n",
    "    s = (a + b + c)/2\n",
    "    return sqrt(s*(s-a)*(s-b)*(s-c))\n",
    "end"
   ]
  },
  {
   "cell_type": "code",
   "execution_count": 158,
   "metadata": {},
   "outputs": [
    {
     "data": {
      "text/plain": [
       "(Shape Type:Rectangle Area:12.0, Shape Type:Triangle Area:6.0)"
      ]
     },
     "execution_count": 158,
     "metadata": {},
     "output_type": "execute_result"
    }
   ],
   "source": [
    "r, t = Rectangle(3, 4), Triangle(3, 4, 5)"
   ]
  },
  {
   "cell_type": "code",
   "execution_count": 159,
   "metadata": {},
   "outputs": [
    {
     "data": {
      "text/plain": [
       "12.0f0"
      ]
     },
     "execution_count": 159,
     "metadata": {},
     "output_type": "execute_result"
    }
   ],
   "source": [
    "area(r)"
   ]
  },
  {
   "cell_type": "code",
   "execution_count": 160,
   "metadata": {},
   "outputs": [
    {
     "data": {
      "text/plain": [
       "6.0f0"
      ]
     },
     "execution_count": 160,
     "metadata": {},
     "output_type": "execute_result"
    }
   ],
   "source": [
    "area(t)"
   ]
  },
  {
   "cell_type": "code",
   "execution_count": 161,
   "metadata": {},
   "outputs": [],
   "source": [
    "Base.show(io::IO, s::Shape) = print(io, \"Shape Type:\", typeof(s), \" Area:\", area(s))"
   ]
  },
  {
   "cell_type": "code",
   "execution_count": 162,
   "metadata": {},
   "outputs": [
    {
     "data": {
      "text/plain": [
       "Shape Type:Rectangle Area:12.0"
      ]
     },
     "execution_count": 162,
     "metadata": {},
     "output_type": "execute_result"
    }
   ],
   "source": [
    "r"
   ]
  },
  {
   "cell_type": "code",
   "execution_count": 163,
   "metadata": {},
   "outputs": [
    {
     "data": {
      "text/plain": [
       "Shape Type:Triangle Area:6.0"
      ]
     },
     "execution_count": 163,
     "metadata": {},
     "output_type": "execute_result"
    }
   ],
   "source": [
    "t"
   ]
  },
  {
   "cell_type": "markdown",
   "metadata": {},
   "source": [
    "### Multiple Dispatch "
   ]
  },
  {
   "cell_type": "markdown",
   "metadata": {},
   "source": [
    "### Constructors"
   ]
  },
  {
   "cell_type": "code",
   "execution_count": 164,
   "metadata": {},
   "outputs": [],
   "source": [
    "struct RectangleA\n",
    "    w::Float32\n",
    "    h::Float32\n",
    "    function RectangleA(w::Real, h::Real)\n",
    "        (w > 0 && h > 0) || \n",
    "        error(\"invalid rectangle with non-positive h or w\")\n",
    "        return new(w, h)\n",
    "    end\n",
    "end"
   ]
  },
  {
   "cell_type": "code",
   "execution_count": 165,
   "metadata": {},
   "outputs": [
    {
     "ename": "LoadError",
     "evalue": "invalid rectangle with non-positive h or w",
     "output_type": "error",
     "traceback": [
      "invalid rectangle with non-positive h or w",
      "",
      "Stacktrace:",
      " [1] error(s::String)",
      "   @ Base .\\error.jl:35",
      " [2] RectangleA(w::Float64, h::Float64)",
      "   @ Main .\\In[164]:5",
      " [3] top-level scope",
      "   @ In[165]:1",
      " [4] eval",
      "   @ .\\boot.jl:368 [inlined]",
      " [5] include_string(mapexpr::typeof(REPL.softscope), mod::Module, code::String, filename::String)",
      "   @ Base .\\loading.jl:1428"
     ]
    }
   ],
   "source": [
    "a = RectangleA(1.0, -4.0)"
   ]
  },
  {
   "cell_type": "code",
   "execution_count": 166,
   "metadata": {},
   "outputs": [
    {
     "data": {
      "text/plain": [
       "RectangleA(0.2f0, 0.8f0)"
      ]
     },
     "execution_count": 166,
     "metadata": {},
     "output_type": "execute_result"
    }
   ],
   "source": [
    "a = RectangleA(1//5, 4//5)"
   ]
  },
  {
   "cell_type": "code",
   "execution_count": 167,
   "metadata": {},
   "outputs": [
    {
     "data": {
      "text/plain": [
       "RectangleA(1.0f0, 4.0f0)"
      ]
     },
     "execution_count": 167,
     "metadata": {},
     "output_type": "execute_result"
    }
   ],
   "source": [
    "a = RectangleA(1, 4)"
   ]
  },
  {
   "cell_type": "code",
   "execution_count": 168,
   "metadata": {},
   "outputs": [
    {
     "data": {
      "text/plain": [
       "RectangleA(1.0f0, 4.0f0)"
      ]
     },
     "execution_count": 168,
     "metadata": {},
     "output_type": "execute_result"
    }
   ],
   "source": [
    "a = RectangleA(1.0, 4.0)"
   ]
  },
  {
   "cell_type": "code",
   "execution_count": 169,
   "metadata": {},
   "outputs": [
    {
     "data": {
      "text/plain": [
       "RectangleA(1.0f0, 4.0f0)"
      ]
     },
     "execution_count": 169,
     "metadata": {},
     "output_type": "execute_result"
    }
   ],
   "source": [
    "a = RectangleA(1.0, 4)"
   ]
  },
  {
   "cell_type": "code",
   "execution_count": 170,
   "metadata": {},
   "outputs": [
    {
     "data": {
      "text/plain": [
       "RectangleA"
      ]
     },
     "execution_count": 170,
     "metadata": {},
     "output_type": "execute_result"
    }
   ],
   "source": [
    "RectangleA(a=1.0)=RectangleA(a, a)"
   ]
  },
  {
   "cell_type": "code",
   "execution_count": 171,
   "metadata": {},
   "outputs": [
    {
     "data": {
      "text/plain": [
       "RectangleA(1.0f0, 1.0f0)"
      ]
     },
     "execution_count": 171,
     "metadata": {},
     "output_type": "execute_result"
    }
   ],
   "source": [
    "RectangleA()"
   ]
  },
  {
   "cell_type": "code",
   "execution_count": 172,
   "metadata": {},
   "outputs": [
    {
     "data": {
      "text/plain": [
       "RectangleA(2.0f0, 2.0f0)"
      ]
     },
     "execution_count": 172,
     "metadata": {},
     "output_type": "execute_result"
    }
   ],
   "source": [
    "RectangleA(2.0)"
   ]
  },
  {
   "cell_type": "code",
   "execution_count": 173,
   "metadata": {},
   "outputs": [
    {
     "data": {
      "text/html": [
       "# 3 methods for type constructor:<ul><li> RectangleA() in Main at In[170]:1</li> <li> RectangleA(w::<b>Real</b>, h::<b>Real</b>) in Main at In[164]:4</li> <li> RectangleA(a) in Main at In[170]:1</li> </ul>"
      ],
      "text/plain": [
       "# 3 methods for type constructor:\n",
       "[1] RectangleA() in Main at In[170]:1\n",
       "[2] RectangleA(w::Real, h::Real) in Main at In[164]:4\n",
       "[3] RectangleA(a) in Main at In[170]:1"
      ]
     },
     "execution_count": 173,
     "metadata": {},
     "output_type": "execute_result"
    }
   ],
   "source": [
    "methods(RectangleA)"
   ]
  },
  {
   "cell_type": "markdown",
   "metadata": {},
   "source": [
    "#### Return Value"
   ]
  },
  {
   "cell_type": "markdown",
   "metadata": {},
   "source": [
    "### Parametric Data Type"
   ]
  },
  {
   "cell_type": "code",
   "execution_count": 174,
   "metadata": {},
   "outputs": [],
   "source": [
    "struct RectangleB{T <: Real}\n",
    "    w::T\n",
    "    h::T\n",
    "end"
   ]
  },
  {
   "cell_type": "code",
   "execution_count": 175,
   "metadata": {},
   "outputs": [
    {
     "data": {
      "text/plain": [
       "RectangleB{Rational{Int64}}(2//3, 1//4)"
      ]
     },
     "execution_count": 175,
     "metadata": {},
     "output_type": "execute_result"
    }
   ],
   "source": [
    "RectangleB(2//3, 1//4)"
   ]
  },
  {
   "cell_type": "code",
   "execution_count": 176,
   "metadata": {},
   "outputs": [
    {
     "data": {
      "text/plain": [
       "RectangleB{Float32}(1.0f0, 2.0f0)"
      ]
     },
     "execution_count": 176,
     "metadata": {},
     "output_type": "execute_result"
    }
   ],
   "source": [
    "RectangleB(1f0, 2f0)"
   ]
  },
  {
   "cell_type": "code",
   "execution_count": 177,
   "metadata": {},
   "outputs": [
    {
     "ename": "LoadError",
     "evalue": "MethodError: no method matching RectangleB(::Rational{Int64}, ::Float32)\n\u001b[0mClosest candidates are:\n\u001b[0m  RectangleB(::T, \u001b[91m::T\u001b[39m) where T<:Real at In[174]:2",
     "output_type": "error",
     "traceback": [
      "MethodError: no method matching RectangleB(::Rational{Int64}, ::Float32)\n\u001b[0mClosest candidates are:\n\u001b[0m  RectangleB(::T, \u001b[91m::T\u001b[39m) where T<:Real at In[174]:2",
      "",
      "Stacktrace:",
      " [1] top-level scope",
      "   @ In[177]:1",
      " [2] eval",
      "   @ .\\boot.jl:368 [inlined]",
      " [3] include_string(mapexpr::typeof(REPL.softscope), mod::Module, code::String, filename::String)",
      "   @ Base .\\loading.jl:1428"
     ]
    }
   ],
   "source": [
    "RectangleB(2//3, 1f0)"
   ]
  },
  {
   "cell_type": "code",
   "execution_count": 178,
   "metadata": {},
   "outputs": [
    {
     "data": {
      "text/plain": [
       "RectangleB{Int64}(97, 1)"
      ]
     },
     "execution_count": 178,
     "metadata": {},
     "output_type": "execute_result"
    }
   ],
   "source": [
    "RectangleB{Int}('a', 1f0)"
   ]
  },
  {
   "cell_type": "code",
   "execution_count": 179,
   "metadata": {},
   "outputs": [
    {
     "data": {
      "text/plain": [
       "aspect_ratio (generic function with 4 methods)"
      ]
     },
     "execution_count": 179,
     "metadata": {},
     "output_type": "execute_result"
    }
   ],
   "source": [
    "area(r::RectangleB)=r.w*r.h\n",
    "aspect_ratio(r::RectangleB)=r.w/r.h"
   ]
  },
  {
   "cell_type": "code",
   "execution_count": 180,
   "metadata": {},
   "outputs": [
    {
     "data": {
      "text/plain": [
       "(RectangleB{Rational{Int64}}(1//2, 2//3), RectangleB{Float64}(1.5, 0.5), RectangleB{Int64}(1, 2))"
      ]
     },
     "execution_count": 180,
     "metadata": {},
     "output_type": "execute_result"
    }
   ],
   "source": [
    "r, r1, r2 = RectangleB(1//2, 2//3), RectangleB(1.5, 0.5), RectangleB(1, 2)"
   ]
  },
  {
   "cell_type": "code",
   "execution_count": 181,
   "metadata": {},
   "outputs": [
    {
     "data": {
      "text/plain": [
       "(1//3, 0.75, 2)"
      ]
     },
     "execution_count": 181,
     "metadata": {},
     "output_type": "execute_result"
    }
   ],
   "source": [
    "area(r), area(r1), area(r2)"
   ]
  },
  {
   "cell_type": "code",
   "execution_count": 182,
   "metadata": {},
   "outputs": [
    {
     "data": {
      "text/plain": [
       "(3//4, 3.0, 1//2)"
      ]
     },
     "execution_count": 182,
     "metadata": {},
     "output_type": "execute_result"
    }
   ],
   "source": [
    "aspect_ratio(r), aspect_ratio(r1), aspect_ratio(r2)"
   ]
  },
  {
   "cell_type": "code",
   "execution_count": 183,
   "metadata": {},
   "outputs": [
    {
     "data": {
      "text/plain": [
       "aspect_ratio (generic function with 4 methods)"
      ]
     },
     "execution_count": 183,
     "metadata": {},
     "output_type": "execute_result"
    }
   ],
   "source": [
    "aspect_ratio(r::RectangleB{T}) where T<:Union{Integer, Rational} = r.w//r.h"
   ]
  },
  {
   "cell_type": "code",
   "execution_count": 184,
   "metadata": {},
   "outputs": [
    {
     "data": {
      "text/plain": [
       "(3//4, 3.0, 1//2)"
      ]
     },
     "execution_count": 184,
     "metadata": {},
     "output_type": "execute_result"
    }
   ],
   "source": [
    "aspect_ratio(r), aspect_ratio(r1), aspect_ratio(r2)"
   ]
  },
  {
   "cell_type": "code",
   "execution_count": 185,
   "metadata": {},
   "outputs": [
    {
     "data": {
      "text/plain": [
       "aspect_ratio (generic function with 4 methods)"
      ]
     },
     "execution_count": 185,
     "metadata": {},
     "output_type": "execute_result"
    }
   ],
   "source": [
    "aspect_ratio(r::RectangleB{T}) where T<:Integer = r.w//r.h"
   ]
  },
  {
   "cell_type": "code",
   "execution_count": 186,
   "metadata": {},
   "outputs": [
    {
     "data": {
      "text/plain": [
       "aspect_ratio (generic function with 4 methods)"
      ]
     },
     "execution_count": 186,
     "metadata": {},
     "output_type": "execute_result"
    }
   ],
   "source": [
    "aspect_ratio(r::RectangleB{T}) where T<:Rational = r.w//r.h"
   ]
  },
  {
   "cell_type": "code",
   "execution_count": 187,
   "metadata": {},
   "outputs": [
    {
     "data": {
      "text/plain": [
       "false"
      ]
     },
     "execution_count": 187,
     "metadata": {},
     "output_type": "execute_result"
    }
   ],
   "source": [
    "RectangleB{Rational{Int}} <: RectangleB{Rational}"
   ]
  },
  {
   "cell_type": "code",
   "execution_count": 188,
   "metadata": {},
   "outputs": [
    {
     "data": {
      "text/plain": [
       "true"
      ]
     },
     "execution_count": 188,
     "metadata": {},
     "output_type": "execute_result"
    }
   ],
   "source": [
    "RectangleB{Rational{Int}} <: RectangleB"
   ]
  },
  {
   "cell_type": "code",
   "execution_count": 189,
   "metadata": {},
   "outputs": [
    {
     "data": {
      "text/plain": [
       "true"
      ]
     },
     "execution_count": 189,
     "metadata": {},
     "output_type": "execute_result"
    }
   ],
   "source": [
    "RectangleB{Rational} <: RectangleB"
   ]
  },
  {
   "cell_type": "markdown",
   "metadata": {},
   "source": [
    "## 4.7 Type Interaction\n",
    "\n",
    "Type conversions are not automatic. The developers need to provide for methods that approve of certain conversions. "
   ]
  },
  {
   "cell_type": "code",
   "execution_count": 190,
   "metadata": {},
   "outputs": [
    {
     "data": {
      "text/plain": [
       "3.0f0"
      ]
     },
     "execution_count": 190,
     "metadata": {},
     "output_type": "execute_result"
    }
   ],
   "source": [
    "1f0+2"
   ]
  },
  {
   "cell_type": "code",
   "execution_count": 191,
   "metadata": {},
   "outputs": [
    {
     "data": {
      "text/plain": [
       "3.0"
      ]
     },
     "execution_count": 191,
     "metadata": {},
     "output_type": "execute_result"
    }
   ],
   "source": [
    "1f0+2.0"
   ]
  },
  {
   "cell_type": "code",
   "execution_count": 192,
   "metadata": {},
   "outputs": [
    {
     "data": {
      "text/plain": [
       "f (generic function with 1 method)"
      ]
     },
     "execution_count": 192,
     "metadata": {},
     "output_type": "execute_result"
    }
   ],
   "source": [
    "function f()\n",
    "    i::Int = 0\n",
    "    i = 1.5\n",
    "    return i\n",
    "end"
   ]
  },
  {
   "cell_type": "code",
   "execution_count": 193,
   "metadata": {},
   "outputs": [
    {
     "ename": "LoadError",
     "evalue": "InexactError: Int64(1.5)",
     "output_type": "error",
     "traceback": [
      "InexactError: Int64(1.5)",
      "",
      "Stacktrace:",
      " [1] Int64",
      "   @ .\\float.jl:788 [inlined]",
      " [2] convert(#unused#::Type{Int64}, x::Float64)",
      "   @ Base .\\number.jl:7",
      " [3] f()",
      "   @ Main .\\In[192]:3",
      " [4] top-level scope",
      "   @ In[193]:1",
      " [5] eval",
      "   @ .\\boot.jl:368 [inlined]",
      " [6] include_string(mapexpr::typeof(REPL.softscope), mod::Module, code::String, filename::String)",
      "   @ Base .\\loading.jl:1428"
     ]
    }
   ],
   "source": [
    "f()"
   ]
  },
  {
   "cell_type": "markdown",
   "metadata": {},
   "source": [
    "When paramter is already provided the function arguments are converted to the expected data types. "
   ]
  },
  {
   "cell_type": "code",
   "execution_count": 194,
   "metadata": {},
   "outputs": [
    {
     "data": {
      "text/plain": [
       "RectangleB{Int64}(97, 1)"
      ]
     },
     "execution_count": 194,
     "metadata": {},
     "output_type": "execute_result"
    }
   ],
   "source": [
    "RectangleB{Int}('a', 1.0)"
   ]
  },
  {
   "cell_type": "code",
   "execution_count": 195,
   "metadata": {},
   "outputs": [
    {
     "ename": "LoadError",
     "evalue": "MethodError: \u001b[0mCannot `convert` an object of type \u001b[92mString\u001b[39m\u001b[0m to an object of type \u001b[91mInt64\u001b[39m\n\u001b[0mClosest candidates are:\n\u001b[0m  convert(::Type{T}, \u001b[91m::T\u001b[39m) where T<:Number at number.jl:6\n\u001b[0m  convert(::Type{T}, \u001b[91m::Number\u001b[39m) where T<:Number at number.jl:7\n\u001b[0m  convert(::Type{T}, \u001b[91m::Base.TwicePrecision\u001b[39m) where T<:Number at twiceprecision.jl:273\n\u001b[0m  ...",
     "output_type": "error",
     "traceback": [
      "MethodError: \u001b[0mCannot `convert` an object of type \u001b[92mString\u001b[39m\u001b[0m to an object of type \u001b[91mInt64\u001b[39m\n\u001b[0mClosest candidates are:\n\u001b[0m  convert(::Type{T}, \u001b[91m::T\u001b[39m) where T<:Number at number.jl:6\n\u001b[0m  convert(::Type{T}, \u001b[91m::Number\u001b[39m) where T<:Number at number.jl:7\n\u001b[0m  convert(::Type{T}, \u001b[91m::Base.TwicePrecision\u001b[39m) where T<:Number at twiceprecision.jl:273\n\u001b[0m  ...",
      "",
      "Stacktrace:",
      " [1] RectangleB{Int64}(w::String, h::Float64)",
      "   @ Main .\\In[174]:2",
      " [2] top-level scope",
      "   @ In[195]:1",
      " [3] eval",
      "   @ .\\boot.jl:368 [inlined]",
      " [4] include_string(mapexpr::typeof(REPL.softscope), mod::Module, code::String, filename::String)",
      "   @ Base .\\loading.jl:1428"
     ]
    }
   ],
   "source": [
    "RectangleB{Int}(\"abc\", 1.0)"
   ]
  },
  {
   "cell_type": "markdown",
   "metadata": {},
   "source": [
    "### Promotion \n",
    "\n",
    "When mixed types are provided as input, the outcome must be consistent and type stable."
   ]
  },
  {
   "cell_type": "code",
   "execution_count": 196,
   "metadata": {},
   "outputs": [],
   "source": [
    "struct RectangleP{T<:Real}\n",
    "    w::T\n",
    "    h::T\n",
    "    RectangleP(w::T, h::T) where T<:Real=new{T}(w, h)\n",
    "end"
   ]
  },
  {
   "cell_type": "code",
   "execution_count": 197,
   "metadata": {},
   "outputs": [
    {
     "data": {
      "text/plain": [
       "RectangleP{Float64}(1.0, 2.0)"
      ]
     },
     "execution_count": 197,
     "metadata": {},
     "output_type": "execute_result"
    }
   ],
   "source": [
    "RectangleP(1, 2.0)"
   ]
  },
  {
   "cell_type": "code",
   "execution_count": 198,
   "metadata": {},
   "outputs": [
    {
     "data": {
      "text/plain": [
       "RectangleP"
      ]
     },
     "execution_count": 198,
     "metadata": {},
     "output_type": "execute_result"
    }
   ],
   "source": [
    "function RectangleP(w::T1, h::T2) where {T1<:Real, T2<:Real}\n",
    "    w1, h1 = promote(w, h)\n",
    "    return RectangleP(w1, h1)\n",
    "end"
   ]
  },
  {
   "cell_type": "code",
   "execution_count": 199,
   "metadata": {},
   "outputs": [
    {
     "data": {
      "text/plain": [
       "RectangleP{Float64}(1.0, 2.0)"
      ]
     },
     "execution_count": 199,
     "metadata": {},
     "output_type": "execute_result"
    }
   ],
   "source": [
    "RectangleP(1, 2.0)"
   ]
  },
  {
   "cell_type": "code",
   "execution_count": 200,
   "metadata": {},
   "outputs": [
    {
     "data": {
      "text/plain": [
       "minrect (generic function with 1 method)"
      ]
     },
     "execution_count": 200,
     "metadata": {},
     "output_type": "execute_result"
    }
   ],
   "source": [
    "function minrect(r1::RectangleP, r2::RectangleP)\n",
    "    w = r1.w < r2.w ? r1.w : r2.w\n",
    "    h = r1.h < r2.h ? r1.h : r2.h\n",
    "    return RectangleP(w, h)\n",
    "end"
   ]
  },
  {
   "cell_type": "code",
   "execution_count": 201,
   "metadata": {},
   "outputs": [
    {
     "data": {
      "text/plain": [
       "RectangleP{Float64}(1.0, 0.5)"
      ]
     },
     "execution_count": 201,
     "metadata": {},
     "output_type": "execute_result"
    }
   ],
   "source": [
    "minrect(RectangleP(1, 2), RectangleP(2.0, 0.5))"
   ]
  },
  {
   "cell_type": "code",
   "execution_count": 202,
   "metadata": {},
   "outputs": [
    {
     "data": {
      "text/plain": [
       "RectangleP{Int64}(1, 2)"
      ]
     },
     "execution_count": 202,
     "metadata": {},
     "output_type": "execute_result"
    }
   ],
   "source": [
    "minrect(RectangleP(1, 2), RectangleP(3.0, 4.0))"
   ]
  },
  {
   "cell_type": "code",
   "execution_count": 203,
   "metadata": {},
   "outputs": [
    {
     "data": {
      "text/plain": [
       "minrect (generic function with 1 method)"
      ]
     },
     "execution_count": 203,
     "metadata": {},
     "output_type": "execute_result"
    }
   ],
   "source": [
    "Base.promote_rule(::Type{RectangleP{T}}, ::Type{RectangleP{S}}) where {T<:Real, S<:Real} = RectangleP{promote_type(S, T)}\n",
    "Base.convert(::Type{RectangleP{T}}, x::RectangleP{S}) where {T<:Real, S<:Real} = RectangleP(T(x.w), T(x.h))\n",
    "\n",
    "function minrect(tr1::RectangleP, tr2::RectangleP)\n",
    "    r1, r2 = promote(tr1, tr2)\n",
    "    w = r1.w < r2.w ? r1.w : r2.w\n",
    "    h = r1.h < r2.h ? r1.h : r2.h\n",
    "    return RectangleP(w, h)\n",
    "end"
   ]
  },
  {
   "cell_type": "code",
   "execution_count": 204,
   "metadata": {},
   "outputs": [
    {
     "data": {
      "text/plain": [
       "RectangleP{Float64}(1.0, 2.0)"
      ]
     },
     "execution_count": 204,
     "metadata": {},
     "output_type": "execute_result"
    }
   ],
   "source": [
    "minrect(RectangleP(1, 2), RectangleP(3.0, 4.0))"
   ]
  }
 ],
 "metadata": {
  "@webio": {
   "lastCommId": null,
   "lastKernelId": null
  },
  "kernelspec": {
   "display_name": "Julia 1.8.0",
   "language": "julia",
   "name": "julia-1.8"
  },
  "language_info": {
   "file_extension": ".jl",
   "mimetype": "application/julia",
   "name": "julia",
   "version": "1.8.0"
  }
 },
 "nbformat": 4,
 "nbformat_minor": 4
}
